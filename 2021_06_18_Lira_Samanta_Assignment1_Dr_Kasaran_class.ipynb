{
  "nbformat": 4,
  "nbformat_minor": 5,
  "metadata": {
    "kernelspec": {
      "display_name": "Python 3",
      "language": "python",
      "name": "python3"
    },
    "language_info": {
      "codemirror_mode": {
        "name": "ipython",
        "version": 3
      },
      "file_extension": ".py",
      "mimetype": "text/x-python",
      "name": "python",
      "nbconvert_exporter": "python",
      "pygments_lexer": "ipython3",
      "version": "3.8.0"
    },
    "colab": {
      "name": "2021-06-18: Lira Samanta - Assignment1 Dr. Kasaran class",
      "provenance": [],
      "collapsed_sections": [],
      "include_colab_link": true
    }
  },
  "cells": [
    {
      "cell_type": "markdown",
      "metadata": {
        "id": "view-in-github",
        "colab_type": "text"
      },
      "source": [
        "<a href=\"https://colab.research.google.com/github/gaargly/gaargly.github.io/blob/master/2021_06_18_Lira_Samanta_Assignment1_Dr_Kasaran_class.ipynb\" target=\"_parent\"><img src=\"https://colab.research.google.com/assets/colab-badge.svg\" alt=\"Open In Colab\"/></a>"
      ]
    },
    {
      "cell_type": "markdown",
      "metadata": {
        "id": "27ab9f16"
      },
      "source": [
        "# Assignment-1"
      ],
      "id": "27ab9f16"
    },
    {
      "cell_type": "markdown",
      "metadata": {
        "id": "497942ec"
      },
      "source": [
        "1. Write a NumPy program to convert a list and tuple into arrays. \n",
        "\n",
        "List to array:\n",
        "\n",
        "[1 2 3 4 5 6 7 8]\n",
        "\n",
        "Tuple to array:\n",
        "\n",
        "[[8 4 6]\n",
        "[1 2 3]]"
      ],
      "id": "497942ec"
    },
    {
      "cell_type": "code",
      "metadata": {
        "id": "e62bccd4",
        "colab": {
          "base_uri": "https://localhost:8080/"
        },
        "outputId": "7e0bbf46-02fa-457c-fb0a-deae47c6695f"
      },
      "source": [
        "import numpy as np\n",
        "\n",
        "# List to Array\n",
        "list1 = [1, 2, 3, 4, 5, 6, 7, 8]\n",
        "np.array(list1)"
      ],
      "id": "e62bccd4",
      "execution_count": 1,
      "outputs": [
        {
          "output_type": "execute_result",
          "data": {
            "text/plain": [
              "array([1, 2, 3, 4, 5, 6, 7, 8])"
            ]
          },
          "metadata": {
            "tags": []
          },
          "execution_count": 1
        }
      ]
    },
    {
      "cell_type": "code",
      "metadata": {
        "colab": {
          "base_uri": "https://localhost:8080/"
        },
        "id": "zb6scH23X5Vs",
        "outputId": "03c364d1-34e9-4024-8762-633a2d3a8a1c"
      },
      "source": [
        "# Tuple to Array\n",
        "tuple1 = (1, 2, 3, 4, 5, 6, 7, 8)\n",
        "np.array(tuple1)"
      ],
      "id": "zb6scH23X5Vs",
      "execution_count": 2,
      "outputs": [
        {
          "output_type": "execute_result",
          "data": {
            "text/plain": [
              "array([1, 2, 3, 4, 5, 6, 7, 8])"
            ]
          },
          "metadata": {
            "tags": []
          },
          "execution_count": 2
        }
      ]
    },
    {
      "cell_type": "markdown",
      "metadata": {
        "id": "5d845a3c"
      },
      "source": [
        "2. Write a NumPy program to append values to the end of an array.\n",
        "\n",
        "Expected Output:\n",
        "\n",
        "Original array:\n",
        "[10, 20, 30]\n",
        "\n",
        "After append values to the end of the array:\n",
        "[10 20 30 40 50 60 70 80 90]"
      ],
      "id": "5d845a3c"
    },
    {
      "cell_type": "code",
      "metadata": {
        "colab": {
          "base_uri": "https://localhost:8080/"
        },
        "id": "04ac4fdb",
        "outputId": "00f7c151-3b95-40d3-9e1f-bd8e5d6a6d84"
      },
      "source": [
        "arr = [10, 20, 30]\n",
        "arr = np.append(arr, [40, 50, 60, 70, 80, 90])\n",
        "print(arr)"
      ],
      "id": "04ac4fdb",
      "execution_count": 46,
      "outputs": [
        {
          "output_type": "stream",
          "text": [
            "[10 20 30 40 50 60 70 80 90]\n"
          ],
          "name": "stdout"
        }
      ]
    },
    {
      "cell_type": "markdown",
      "metadata": {
        "id": "7569c7ec"
      },
      "source": [
        "3. Write a NumPy program to convert the values of Centigrade degrees into Fahrenheit degrees. Centigrade values are stored into a NumPy array.\n",
        "\n",
        "Sample Array [0, 12, 45.21 ,34, 99.91]\n",
        "\n",
        "Values in Fahrenheit degrees:                                           \n",
        "[  0.    12.    45.21  34.    99.91]                                    \n",
        "Values in  Centigrade degrees:                                          \n",
        "[-17.77777778 -11.11111111   7.33888889   1.11111111  37.72777778]"
      ],
      "id": "7569c7ec"
    },
    {
      "cell_type": "code",
      "metadata": {
        "colab": {
          "base_uri": "https://localhost:8080/"
        },
        "id": "1d7a2cca",
        "outputId": "d0eb6b89-dfb0-46e0-c658-118b26440c3b"
      },
      "source": [
        "degrees_C = np.array([0, 12, 45.21, 34, 99.91])\n",
        "degrees_F = (5*degrees_F/9 - 5*32/9)\n",
        "print(degrees_F)"
      ],
      "id": "1d7a2cca",
      "execution_count": 13,
      "outputs": [
        {
          "output_type": "stream",
          "text": [
            "[-17.77777778 -11.11111111   7.33888889   1.11111111  37.72777778]\n"
          ],
          "name": "stdout"
        }
      ]
    },
    {
      "cell_type": "markdown",
      "metadata": {
        "id": "f25bcafe"
      },
      "source": [
        "4. Write a NumPy program to find the number of elements of an array, length of one array element in bytes and total bytes consumed by the elements"
      ],
      "id": "f25bcafe"
    },
    {
      "cell_type": "code",
      "metadata": {
        "colab": {
          "base_uri": "https://localhost:8080/"
        },
        "id": "1c293312",
        "outputId": "89bd429d-245f-400f-e613-7f5bd7991b9d"
      },
      "source": [
        "arr = np.array([5, 10, 15])\n",
        "print(\"Size:\", arr.size)\n",
        "print(\"Length:\", arr.itemsize)\n",
        "print(\"Bytes:\", arr.nbytes)"
      ],
      "id": "1c293312",
      "execution_count": 47,
      "outputs": [
        {
          "output_type": "stream",
          "text": [
            "Size: 3\n",
            "Length: 8\n",
            "Bytes: 24\n"
          ],
          "name": "stdout"
        }
      ]
    },
    {
      "cell_type": "markdown",
      "metadata": {
        "id": "78dcf155"
      },
      "source": [
        "5. Write a NumPy program to find common values between two arrays.\n",
        "\n",
        "Array1:  [ 0 10 20 40 60]                                              \n",
        "Array2:  [10, 30, 40]                                                  \n",
        "Common values between two arrays:                                      \n",
        "[10 40]"
      ],
      "id": "78dcf155"
    },
    {
      "cell_type": "code",
      "metadata": {
        "colab": {
          "base_uri": "https://localhost:8080/"
        },
        "id": "86d4bed0",
        "outputId": "190d0f66-2f9f-4715-b4ad-eee19b91e376"
      },
      "source": [
        "array1 = np.array([0, 10, 20, 40, 60])\n",
        "array2 = np.array([10, 30, 40])\n",
        "np.intersect1d(array1, array2)"
      ],
      "id": "86d4bed0",
      "execution_count": 48,
      "outputs": [
        {
          "output_type": "execute_result",
          "data": {
            "text/plain": [
              "array([10, 40])"
            ]
          },
          "metadata": {
            "tags": []
          },
          "execution_count": 48
        }
      ]
    },
    {
      "cell_type": "markdown",
      "metadata": {
        "id": "60330df3"
      },
      "source": [
        "6. Write a NumPy program to get the unique elements of an array. \n",
        "\n",
        "Expected Output:\n",
        "Original array:\n",
        "[10 10 20 20 30 30]\n",
        "Unique elements of the above array:\n",
        "[10 20 30]\n",
        "Original array:\n",
        "[[1 1]\n",
        "[2 3]]\n",
        "Unique elements of the above array:\n",
        "[1 2 3]"
      ],
      "id": "60330df3"
    },
    {
      "cell_type": "code",
      "metadata": {
        "colab": {
          "base_uri": "https://localhost:8080/"
        },
        "id": "9926b761",
        "outputId": "3faa5ce7-cbab-481e-9f0a-21305abff1e9"
      },
      "source": [
        "orig_array = np.array([10, 10, 20, 20, 30, 30])\n",
        "orig_array2 = np.array([[1, 1],[2,3]])\n",
        "\n",
        "print(np.unique(orig_array))\n",
        "print(np.unique(orig_array2))"
      ],
      "id": "9926b761",
      "execution_count": 25,
      "outputs": [
        {
          "output_type": "stream",
          "text": [
            "[10 20 30]\n",
            "[1 2 3]\n"
          ],
          "name": "stdout"
        }
      ]
    },
    {
      "cell_type": "markdown",
      "metadata": {
        "id": "fc59d3c5"
      },
      "source": [
        "7. Write a NumPy program to find the set difference of two arrays. The set difference will return the sorted, unique values in array1 that are not in array2.\n",
        "\n",
        "Array1:  [ 0 10 20 40 60 80]                                           \n",
        "Array2:  [10, 30, 40, 50, 70]                                          \n",
        "Unique values in array1 that are not in array2:                        \n",
        "[ 0 20 60 80]"
      ],
      "id": "fc59d3c5"
    },
    {
      "cell_type": "code",
      "metadata": {
        "colab": {
          "base_uri": "https://localhost:8080/"
        },
        "id": "7fb4106c",
        "outputId": "62da18d2-34f4-431e-8d5f-8c04a12fa2ba"
      },
      "source": [
        "array1 = np.array([0, 10, 20, 40, 60, 80])\n",
        "array2 = np.array([10, 30, 40, 50, 70])\n",
        "np.setdiff1d(array1, array2)"
      ],
      "id": "7fb4106c",
      "execution_count": 27,
      "outputs": [
        {
          "output_type": "execute_result",
          "data": {
            "text/plain": [
              "array([ 0, 20, 60, 80])"
            ]
          },
          "metadata": {
            "tags": []
          },
          "execution_count": 27
        }
      ]
    },
    {
      "cell_type": "markdown",
      "metadata": {
        "id": "f851ab0a"
      },
      "source": [
        "8. Write a NumPy program to find the set exclusive-or of two arrays. Set exclusive-or will return the sorted, unique values that are in only one (not both) of the input arrays.\n",
        "\n",
        "Array1:  [ 0 10 20 40 60 80]                                           \n",
        "Array2:  [10, 30, 40, 50, 70]                                          \n",
        "Unique values that are in only one (not both) of the input arrays:     \n",
        "[ 0 20 30 50 60 70 80]"
      ],
      "id": "f851ab0a"
    },
    {
      "cell_type": "code",
      "metadata": {
        "colab": {
          "base_uri": "https://localhost:8080/"
        },
        "id": "1232386f",
        "outputId": "d3922637-ab58-46a2-863e-d882311bf764"
      },
      "source": [
        "array1 = np.array([0, 10, 20, 40, 60, 80])\n",
        "array2 = np.array([10, 30, 40, 50, 70])\n",
        "np.setxor1d(array1, array2)"
      ],
      "id": "1232386f",
      "execution_count": 28,
      "outputs": [
        {
          "output_type": "execute_result",
          "data": {
            "text/plain": [
              "array([ 0, 20, 30, 50, 60, 70, 80])"
            ]
          },
          "metadata": {
            "tags": []
          },
          "execution_count": 28
        }
      ]
    },
    {
      "cell_type": "markdown",
      "metadata": {
        "id": "3c6c98b2"
      },
      "source": [
        "9. Write a NumPy program to find the union of two arrays. Union will return the unique, sorted array of values that are in either of the two input arrays.\n",
        "\n",
        "Array1:  [ 0 10 20 40 60 80]                                           \n",
        "Array2:  [10, 30, 40, 50, 70]                                          \n",
        "Unique sorted array of values that are in either of the two input array\n",
        "s:                                                                     \n",
        "[ 0 10 20 30 40 50 60 70 80]"
      ],
      "id": "3c6c98b2"
    },
    {
      "cell_type": "code",
      "metadata": {
        "colab": {
          "base_uri": "https://localhost:8080/"
        },
        "id": "25c0f4d0",
        "outputId": "af93e467-a9aa-496e-cfb9-793206c62ed3"
      },
      "source": [
        "array1 = np.array([0, 10, 20, 40, 60, 80])\n",
        "array2 = np.array([10, 30, 40, 50, 70])\n",
        "np.union1d(array1, array2)"
      ],
      "id": "25c0f4d0",
      "execution_count": 29,
      "outputs": [
        {
          "output_type": "execute_result",
          "data": {
            "text/plain": [
              "array([ 0, 10, 20, 30, 40, 50, 60, 70, 80])"
            ]
          },
          "metadata": {
            "tags": []
          },
          "execution_count": 29
        }
      ]
    },
    {
      "cell_type": "markdown",
      "metadata": {
        "id": "5a2d5d3c"
      },
      "source": [
        "10. Write a NumPy program to test whether all elements in an array evaluate to True.\n",
        "Note: 0 evaluates to False in python."
      ],
      "id": "5a2d5d3c"
    },
    {
      "cell_type": "code",
      "metadata": {
        "colab": {
          "base_uri": "https://localhost:8080/"
        },
        "id": "f58d87d8",
        "outputId": "a66ac38a-33a7-40e7-8f17-9159757787d9"
      },
      "source": [
        "print(np.all([[True, True, True]]))\n",
        "print(np.all([[True, True, False]]))\n",
        "print(np.all([[True, True, 0]]))"
      ],
      "id": "f58d87d8",
      "execution_count": 33,
      "outputs": [
        {
          "output_type": "stream",
          "text": [
            "True\n",
            "False\n",
            "False\n",
            "None\n"
          ],
          "name": "stdout"
        }
      ]
    },
    {
      "cell_type": "markdown",
      "metadata": {
        "id": "e0c49d53"
      },
      "source": [
        "11. Write a NumPy program to find the indices of the maximum and minimum values along the given axis of an array.\n",
        "\n",
        "Original array:  [1 2 3 4 5 6]                                         \n",
        "Maximum Values:  5                                                     \n",
        "Minimum Values:  0"
      ],
      "id": "e0c49d53"
    },
    {
      "cell_type": "code",
      "metadata": {
        "colab": {
          "base_uri": "https://localhost:8080/"
        },
        "id": "292bbd86",
        "outputId": "77bb2466-1476-4c7a-f588-ed3e10066d4d"
      },
      "source": [
        "orig_array = np.array([1, 2, 3, 4, 5, 6])\n",
        "print(np.argmax(orig_array))\n",
        "print(np.argmin(orig_array))"
      ],
      "id": "292bbd86",
      "execution_count": 49,
      "outputs": [
        {
          "output_type": "stream",
          "text": [
            "5\n",
            "0\n"
          ],
          "name": "stdout"
        }
      ]
    },
    {
      "cell_type": "markdown",
      "metadata": {
        "id": "4245b114"
      },
      "source": [
        "12. Write a NumPy program to get the values and indices of the elements that are bigger than 10 in a given array."
      ],
      "id": "4245b114"
    },
    {
      "cell_type": "code",
      "metadata": {
        "colab": {
          "base_uri": "https://localhost:8080/"
        },
        "id": "76dbb63a",
        "outputId": "2d84398e-ed19-439b-fc67-4079db3fcbad"
      },
      "source": [
        "arr = np.array([10, 15, 220])\n",
        "print(arr[arr > 10])"
      ],
      "id": "76dbb63a",
      "execution_count": 50,
      "outputs": [
        {
          "output_type": "stream",
          "text": [
            "[ 15 220]\n"
          ],
          "name": "stdout"
        }
      ]
    },
    {
      "cell_type": "markdown",
      "metadata": {
        "id": "a69c660c"
      },
      "source": [
        "13. Write a NumPy program to create an array of ones of size 2 and an array of zeros of size 2."
      ],
      "id": "a69c660c"
    },
    {
      "cell_type": "code",
      "metadata": {
        "colab": {
          "base_uri": "https://localhost:8080/"
        },
        "id": "d8690b8c",
        "outputId": "6993148a-3531-4704-887d-a43d2f386a97"
      },
      "source": [
        "ones = np.ones(2)\n",
        "zeros = np.zeros(2)\n",
        "print(ones)\n",
        "print(zeros)"
      ],
      "id": "d8690b8c",
      "execution_count": 39,
      "outputs": [
        {
          "output_type": "stream",
          "text": [
            "[1. 1.]\n",
            "[0. 0.]\n"
          ],
          "name": "stdout"
        }
      ]
    },
    {
      "cell_type": "markdown",
      "metadata": {
        "id": "9bbfc6d6"
      },
      "source": [
        "14. Write a NumPy program to create a contiguous flattened array.\n",
        "\n",
        "Original array:                                                        \n",
        "[[10 20 30]                                                            \n",
        " [20 40 50]]                                                           \n",
        "New flattened array:                                                   \n",
        "[10 20 30 20 40 50] "
      ],
      "id": "9bbfc6d6"
    },
    {
      "cell_type": "code",
      "metadata": {
        "colab": {
          "base_uri": "https://localhost:8080/"
        },
        "id": "8583605c",
        "outputId": "2d8d4995-29e2-4fea-a754-8e4fc5b4bd3e"
      },
      "source": [
        "orig_array = np.array([[10, 20, 30], [20, 40, 50]])\n",
        "flat_arr = np.ravel(orig_array)\n",
        "print(flat_arr)"
      ],
      "id": "8583605c",
      "execution_count": 51,
      "outputs": [
        {
          "output_type": "stream",
          "text": [
            "[10 20 30 20 40 50]\n"
          ],
          "name": "stdout"
        }
      ]
    },
    {
      "cell_type": "markdown",
      "metadata": {
        "id": "c6260894"
      },
      "source": [
        "15. Write a NumPy program to create a new shape to an array without changing its data.\n",
        "\n",
        "Reshape 3x2:                                                           \n",
        "[[1 2]                                                                 \n",
        " [3 4]                                                                 \n",
        " [5 6]]                                                                \n",
        "Reshape 2x3:                                                           \n",
        "[[1 2 3]                                                               \n",
        " [4 5 6]] "
      ],
      "id": "c6260894"
    },
    {
      "cell_type": "code",
      "metadata": {
        "colab": {
          "base_uri": "https://localhost:8080/"
        },
        "id": "8b804eff",
        "outputId": "2c01a187-e662-4a5e-cd5f-9826e0be0b8c"
      },
      "source": [
        "arr = np.array([1, 2, 3, 4, 5, 6])\n",
        "reshaped_one = np.reshape(arr, (3,2))\n",
        "reshaped_two = np.reshape(arr, (2,3))\n",
        "print(reshaped_one)\n",
        "print(reshaped_two)"
      ],
      "id": "8b804eff",
      "execution_count": 52,
      "outputs": [
        {
          "output_type": "stream",
          "text": [
            "[[1 2]\n",
            " [3 4]\n",
            " [5 6]]\n",
            "[[1 2 3]\n",
            " [4 5 6]]\n"
          ],
          "name": "stdout"
        }
      ]
    },
    {
      "cell_type": "markdown",
      "metadata": {
        "id": "5a067693"
      },
      "source": [
        "16. Write a NumPy program to change the data type of an array.\n",
        "\n",
        "[[ 2  4  6]                                                            \n",
        " [ 6  8 10]]                                                           \n",
        "Data type of the array x is: int32                                     \n",
        "New Type:  float64                                                     \n",
        "[[  2.   4.   6.]                                                      \n",
        " [  6.   8.  10.]]"
      ],
      "id": "5a067693"
    },
    {
      "cell_type": "code",
      "metadata": {
        "colab": {
          "base_uri": "https://localhost:8080/"
        },
        "id": "4ab3dd74",
        "outputId": "e2ef9722-4c5c-4669-aa46-d293d4e2d0af"
      },
      "source": [
        "arr = np.array([[2, 4, 6], [6, 8, 10]])\n",
        "changed = arr.astype(float)\n",
        "print(arr)"
      ],
      "id": "4ab3dd74",
      "execution_count": 53,
      "outputs": [
        {
          "output_type": "stream",
          "text": [
            "[[ 2  4  6]\n",
            " [ 6  8 10]]\n"
          ],
          "name": "stdout"
        }
      ]
    },
    {
      "cell_type": "markdown",
      "metadata": {
        "id": "955f4fcb"
      },
      "source": [
        "17. Write a NumPy program to create a 1-D array of 20 element spaced evenly on a log scale between 2. and 5., exclusive."
      ],
      "id": "955f4fcb"
    },
    {
      "cell_type": "code",
      "metadata": {
        "colab": {
          "base_uri": "https://localhost:8080/"
        },
        "id": "10909aab",
        "outputId": "dcb97c79-bbc0-4464-ada6-74d2be48cb2e"
      },
      "source": [
        "array_1d =  np.logspace(2., 5., 20)\n",
        "print(array_1d)"
      ],
      "id": "10909aab",
      "execution_count": 43,
      "outputs": [
        {
          "output_type": "stream",
          "text": [
            "[   100.            143.84498883    206.91380811    297.63514416\n",
            "    428.13323987    615.84821107    885.86679041   1274.2749857\n",
            "   1832.98071083   2636.65089873   3792.69019073   5455.59478117\n",
            "   7847.59970351  11288.37891685  16237.76739189  23357.2146909\n",
            "  33598.18286284  48329.30238572  69519.27961776 100000.        ]\n"
          ],
          "name": "stdout"
        }
      ]
    },
    {
      "cell_type": "markdown",
      "metadata": {
        "id": "f04d6102"
      },
      "source": [
        "18. Write a NumPy program to concatenate two 2-dimensional arrays.\n",
        "Sample arrays: ([[0, 1, 3], [5, 7, 9]], [[0, 2, 4], [6, 8, 10]]\n",
        "\n",
        "[[ 0  1  3  0  2  4]                                                   \n",
        " [ 5  7  9  6  8 10]] "
      ],
      "id": "f04d6102"
    },
    {
      "cell_type": "code",
      "metadata": {
        "id": "61fb405a",
        "colab": {
          "base_uri": "https://localhost:8080/"
        },
        "outputId": "adffe75b-c9a3-41a9-edc1-ede63f4e4527"
      },
      "source": [
        "x = np.array([[0, 1, 3], [5, 7, 9]])\n",
        "y = np.array([[0, 2, 4], [6, 8, 10]])\n",
        "z = np.concatenate((x, y), 1)\n",
        "print(z)"
      ],
      "id": "61fb405a",
      "execution_count": 44,
      "outputs": [
        {
          "output_type": "stream",
          "text": [
            "[[ 0  1  3  0  2  4]\n",
            " [ 5  7  9  6  8 10]]\n"
          ],
          "name": "stdout"
        }
      ]
    },
    {
      "cell_type": "markdown",
      "metadata": {
        "id": "ad832a38"
      },
      "source": [
        "19. Write a Python program to split an array of 14 elements into 3 arrays, each of which has 2, 4, and 8 elements in the original order.\n",
        "Sample array: [ 1 2 3 4 5 6 7 8 9 10 11 12 13 14]\n",
        "\n",
        "Original array: [ 1  2  3  4  5  6  7  8  9 10 11 12 13 14]            \n",
        "After splitting:                                                       \n",
        "[array([1, 2]), array([3, 4, 5, 6]), array([ 7,  8,  9, 10, 11, 12, 13,\n",
        " 14])] "
      ],
      "id": "ad832a38"
    },
    {
      "cell_type": "code",
      "metadata": {
        "id": "fb153689",
        "colab": {
          "base_uri": "https://localhost:8080/"
        },
        "outputId": "29453d37-4032-4e95-ce9d-af53f53dba1f"
      },
      "source": [
        "arr = np.arange(1, 15)\n",
        "print(\"Original array: \", arr)\n",
        "print(\"After splitting: \")\n",
        "print(np.split(arr, [2, 6]))"
      ],
      "id": "fb153689",
      "execution_count": 55,
      "outputs": [
        {
          "output_type": "stream",
          "text": [
            "Original array:  [ 1  2  3  4  5  6  7  8  9 10 11 12 13 14]\n",
            "After splitting: \n",
            "[array([1, 2]), array([3, 4, 5, 6]), array([ 7,  8,  9, 10, 11, 12, 13, 14])]\n"
          ],
          "name": "stdout"
        }
      ]
    },
    {
      "cell_type": "markdown",
      "metadata": {
        "id": "706cac03"
      },
      "source": [
        "20. Write a NumPy program to split of an array of shape 4x4 it into two arrays along the second axis.\n",
        "Sample array :\n",
        "[[ 0 1 2 3]\n",
        "[ 4 5 6 7]\n",
        "[ 8 9 10 11]\n",
        "[12 13 14 15]]\n",
        "\n",
        "\n",
        "After splitting horizontally:\n",
        "[array([[ 0,  1],\n",
        "       [ 4,  5],\n",
        "       [ 8,  9],\n",
        "       [12, 13]]), array([[ 2,  3],\n",
        "       [ 6,  7],\n",
        "       [10, 11],\n",
        "       [14, 15]]), array([], shape=(4, 0), dtype=int64)] "
      ],
      "id": "706cac03"
    },
    {
      "cell_type": "code",
      "metadata": {
        "id": "4c99915e",
        "colab": {
          "base_uri": "https://localhost:8080/"
        },
        "outputId": "72dbaab5-b242-4f0f-de41-5c057e849c73"
      },
      "source": [
        "arr = np.arange(16).reshape((4, 4))\n",
        "print(\"Original array: \", arr)\n",
        "print(\"After splitting horizontally:\")\n",
        "print(np.hsplit(arr, [2, 6]))"
      ],
      "id": "4c99915e",
      "execution_count": 56,
      "outputs": [
        {
          "output_type": "stream",
          "text": [
            "Original array:  [[ 0  1  2  3]\n",
            " [ 4  5  6  7]\n",
            " [ 8  9 10 11]\n",
            " [12 13 14 15]]\n",
            "After splitting horizontally:\n",
            "[array([[ 0,  1],\n",
            "       [ 4,  5],\n",
            "       [ 8,  9],\n",
            "       [12, 13]]), array([[ 2,  3],\n",
            "       [ 6,  7],\n",
            "       [10, 11],\n",
            "       [14, 15]]), array([], shape=(4, 0), dtype=int64)]\n"
          ],
          "name": "stdout"
        }
      ]
    },
    {
      "cell_type": "markdown",
      "metadata": {
        "id": "0d00760a"
      },
      "source": [
        "21. Write a NumPy program to get the number of nonzero elements in an array.\n",
        "Original array:                                                        \n",
        "[[ 0 10 20]                                                            \n",
        " [20 30 40]]                                                           \n",
        "Number of non zero elements in the above array:                        \n",
        "5 "
      ],
      "id": "0d00760a"
    },
    {
      "cell_type": "code",
      "metadata": {
        "id": "44f805f4",
        "colab": {
          "base_uri": "https://localhost:8080/"
        },
        "outputId": "9c420636-6799-41a2-9257-03987b228b0e"
      },
      "source": [
        "arr = np.array([[0, 10, 20], [20, 30, 40]])\n",
        "print(\"Original array: \")\n",
        "print(arr)\n",
        "print(\"Number of non zero elements in the above array:\")\n",
        "print(np.count_nonzero(arr))"
      ],
      "id": "44f805f4",
      "execution_count": 57,
      "outputs": [
        {
          "output_type": "stream",
          "text": [
            "Original array:\n",
            "[[ 0 10 20]\n",
            " [20 30 40]]\n",
            "Number of non zero elements in the above array:\n",
            "5\n"
          ],
          "name": "stdout"
        }
      ]
    }
  ]
}