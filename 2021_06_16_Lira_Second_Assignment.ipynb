{
  "nbformat": 4,
  "nbformat_minor": 0,
  "metadata": {
    "kernelspec": {
      "display_name": "Python 3",
      "language": "python",
      "name": "python3"
    },
    "language_info": {
      "codemirror_mode": {
        "name": "ipython",
        "version": 3
      },
      "file_extension": ".py",
      "mimetype": "text/x-python",
      "name": "python",
      "nbconvert_exporter": "python",
      "pygments_lexer": "ipython3",
      "version": "3.8.5"
    },
    "colab": {
      "name": "2021-06-16: Lira - Second_Assignment.ipynb",
      "provenance": [],
      "collapsed_sections": [],
      "include_colab_link": true
    }
  },
  "cells": [
    {
      "cell_type": "markdown",
      "metadata": {
        "id": "view-in-github",
        "colab_type": "text"
      },
      "source": [
        "<a href=\"https://colab.research.google.com/github/gaargly/gaargly.github.io/blob/master/2021_06_16_Lira_Second_Assignment.ipynb\" target=\"_parent\"><img src=\"https://colab.research.google.com/assets/colab-badge.svg\" alt=\"Open In Colab\"/></a>"
      ]
    },
    {
      "cell_type": "markdown",
      "metadata": {
        "id": "DxgJjoWf9upp"
      },
      "source": [
        "# Second Assignment"
      ]
    },
    {
      "cell_type": "markdown",
      "metadata": {
        "id": "oxxC_Qv29upr"
      },
      "source": [
        "**1. Do the following to create a program that simulates how websites ensure that everyone has a unique username.**\n",
        "\n",
        "􏰀* Make a list of five or more usernames called current_users.\n",
        "\n",
        "􏰀* Make another list of five usernames called new_users. Make sure one or\n",
        "two of the new usernames are also in the current_users list.\n",
        "\n",
        "􏰀* Loop through the new_users list to see if each new username has already been used. If it has, print a message that the person will need to enter a new username. If a username has not been used, print a message saying that the username is available.\n",
        "\n",
        "􏰀* Make sure your comparison is case insensitive. If 'John' has been used, 'JOHN' should not be accepted."
      ]
    },
    {
      "cell_type": "code",
      "metadata": {
        "id": "jqDHW-is9ups",
        "colab": {
          "base_uri": "https://localhost:8080/"
        },
        "outputId": "840ca90e-bc09-4e40-909b-22ab32925351"
      },
      "source": [
        "# your code here\n",
        "current_users = [\"lira\", \"sarah\", \"james\", \"nicole\", \"AJ\"]\n",
        "new_users = [\"lira\", \"sarah\", \"li\", \"chidi\", \"olympia\"]\n",
        "\n",
        "for i in current_users:\n",
        "  if i in new_users:\n",
        "    print(\"You need to enter a new username\")\n",
        "  else:\n",
        "    print(\"This username is available\")"
      ],
      "execution_count": 13,
      "outputs": [
        {
          "output_type": "stream",
          "text": [
            "You need to enter a new username\n",
            "You need to enter a new username\n",
            "This username is available\n",
            "This username is available\n",
            "This username is available\n"
          ],
          "name": "stdout"
        }
      ]
    },
    {
      "cell_type": "markdown",
      "metadata": {
        "id": "QIWa6N7T9upt"
      },
      "source": [
        "**2. Color probability**\n",
        "\n",
        "You're playing a game with a friend involving a bag of marbles. In the bag are ten marbles:\n",
        "\n",
        "* 1 smooth red marble\n",
        "\n",
        "* 4 bumpy red marbles\n",
        "\n",
        "* 2 bumpy yellow marbles\n",
        "\n",
        "* 1 smooth yellow marble\n",
        "\n",
        "* 1 bumpy green marble\n",
        "\n",
        "* 1 smooth green marble\n",
        "\n",
        "You can see that the probability of picking a smooth red marble from the bag is 1 / 10 or 0.10 and the probability of picking a bumpy yellow marble is 2 / 10 or 0.20.\n",
        "\n",
        "The game works like this: your friend puts her hand in the bag, chooses a marble (without looking at it) and tells you whether it's bumpy or smooth. Then you have to guess which color it is before she pulls it out and reveals whether you're correct or not.\n",
        "\n",
        "You know that the information about whether the marble is bumpy or smooth changes the probability of what color it is, and you want some help with your guesses.\n",
        "\n",
        "\n",
        "Write a function color_probability that takes two arguments: a color ('red', 'yellow', or 'green') and a texture ('bumpy' or 'smooth') and returns the probability of drawing that combination as a decimal fraction accurate to two places.\n",
        "\n",
        "The probability should be a string and should discard any digits after the 100ths place. For example, 2 / 3 or 0.6666666666666666 would become the string '0.66'. Note this is different from rounding.\n",
        "\n",
        "As a complete example, color_probability('red', 'bumpy') should return the string '0.57'."
      ]
    },
    {
      "cell_type": "code",
      "metadata": {
        "id": "phrjyj_09upu",
        "colab": {
          "base_uri": "https://localhost:8080/",
          "height": 35
        },
        "outputId": "5d12c50f-a621-4403-ea3e-3b140f1179d3"
      },
      "source": [
        "# your code here\n",
        "\n",
        "def color_probability(texture, color):\n",
        "  if texture == \"smooth\":\n",
        "    if color in (\"red\",\"yellow\",\"green\"):\n",
        "      return \"0.33\"\n",
        "    else:\n",
        "      return 0\n",
        "  elif texture == \"bumpy\":\n",
        "    if color == \"red\":\n",
        "      return \"0.66\"\n",
        "    elif color == \"yellow\":\n",
        "      return \"0.33\"\n",
        "    else:\n",
        "      return 0\n",
        "\n",
        "color_probability(\"bumpy\",\"red\")"
      ],
      "execution_count": 111,
      "outputs": [
        {
          "output_type": "execute_result",
          "data": {
            "application/vnd.google.colaboratory.intrinsic+json": {
              "type": "string"
            },
            "text/plain": [
              "'0.66'"
            ]
          },
          "metadata": {
            "tags": []
          },
          "execution_count": 111
        }
      ]
    },
    {
      "cell_type": "markdown",
      "metadata": {
        "id": "JYtUik-V9upu"
      },
      "source": [
        "**3. Write an if-elif-else chain that determines a person’s stage of life.**\n",
        "\n",
        "\n",
        "Set a value for the variable age, and then:\n",
        "\n",
        "􏰀* If the person is less than 2 years old, print a message that the person is a baby.\n",
        "\n",
        "*􏰀 If the person is at least 2 years old but less than 4, print a message that the person is a toddler.\n",
        "\n",
        "*􏰀 If the person is at least 4 years old but less than 13, print a message that the person is a kid.\n",
        "\n",
        "*􏰀 If the person is at least 13 years old but less than 20, print a message that the person is a teenager.\n",
        "\n",
        "*􏰀 If the person is at least 20 years old but less than 65, print a message that the person is an adult.\n",
        "\n",
        "*􏰀 If the person is age 65 or older, print a message that the person is an elder."
      ]
    },
    {
      "cell_type": "code",
      "metadata": {
        "id": "f-I0QLl69upv",
        "colab": {
          "base_uri": "https://localhost:8080/"
        },
        "outputId": "2f3a6837-5fcc-42d0-8e34-5aee81ff0782"
      },
      "source": [
        "# your code here\n",
        "age = 65\n",
        "\n",
        "if age < 2:\n",
        "  print(\"This person is a baby\")\n",
        "elif (age >= 2 and age < 4):\n",
        "  print(\"This person is a toddler\")\n",
        "elif (age >= 4 and age < 13):\n",
        "  print(\"This person is a kid\")\n",
        "elif (age >= 13 and age < 20):\n",
        "  print(\"This person is a teenager\")\n",
        "elif (age >= 20 and age < 65):\n",
        "  print(\"This person is an adult\")\n",
        "elif (age >= 65):\n",
        "  print(\"This person is an elder\")"
      ],
      "execution_count": 21,
      "outputs": [
        {
          "output_type": "stream",
          "text": [
            "This person is an elder\n"
          ],
          "name": "stdout"
        }
      ]
    },
    {
      "cell_type": "markdown",
      "metadata": {
        "id": "hslqwUok9upw"
      },
      "source": [
        "**4. process_data**\n",
        "\n",
        "You have a two-dimensional list in the following format:\n",
        "\n",
        "data = [[2, 5], [3, 4], [8, 7]]\n",
        "\n",
        "Each sub-list contains two items, and each item in the sub-lists is an integer.\n",
        "\n",
        "Write a function process_data that processes each sub-list like so:\n"
      ]
    },
    {
      "cell_type": "raw",
      "metadata": {
        "id": "DYd8ZQYF9upw"
      },
      "source": [
        "* [2, 5] --> 2 - 5 --> -3\n",
        "* [3, 4] --> 3 - 4 --> -1\n",
        "* [8, 7] --> 8 - 7 --> 1\n",
        "\n",
        "and then returns the product of all the processed sub-lists: -3 * -1 * 1 --> 3. d For input, you can trust that neither the main list nor the sublists will be empty."
      ]
    },
    {
      "cell_type": "code",
      "metadata": {
        "id": "2WSKGlpX9upx",
        "colab": {
          "base_uri": "https://localhost:8080/"
        },
        "outputId": "6524f774-1283-4340-92c5-3c673017b1e7"
      },
      "source": [
        "# your code here\n",
        "nums = [[2, 5], [3, 4], [8, 7]]\n",
        "\n",
        "def process_data(data):\n",
        "  hold = 1\n",
        "  for i in data:\n",
        "    hold *= i[0]-i[1]\n",
        "  return hold\n",
        "\n",
        "process_data(nums)\n"
      ],
      "execution_count": 49,
      "outputs": [
        {
          "output_type": "execute_result",
          "data": {
            "text/plain": [
              "3"
            ]
          },
          "metadata": {
            "tags": []
          },
          "execution_count": 49
        }
      ]
    },
    {
      "cell_type": "markdown",
      "metadata": {
        "id": "9lrD-9fM9upx"
      },
      "source": [
        "**5. user_contacts**\n",
        "\n",
        "You're putting together contact information for all the users of your website to ship them a small gift. You queried your database and got back a list of users, where each user is another list with up to two items: a string representing the user's name and their shipping zip code. Example data might look like:\n",
        "\n"
      ]
    },
    {
      "cell_type": "markdown",
      "metadata": {
        "id": "tjwdqGhT9upy"
      },
      "source": [
        "[[\"Grae Drake\", 98110], [\"Bethany Kok\"], [\"Alex Nussbacher\", 94101], [\"Darrell Silver\", 11201]]\n",
        "\n",
        "\n",
        "Notice that one of the users above has a name but doesn't have a zip code.\n",
        "\n",
        "Write a function user_contacts that takes a two-dimensional list like the one above and returns a dictionary with an item for each user where the key is the user's name and the value is the user's zip code. If your data doesn't include a zip code then the value should be None.\n",
        "\n",
        "For example, using the input above, user_contacts would return this dictionary:\n",
        "\n",
        "\n"
      ]
    },
    {
      "cell_type": "raw",
      "metadata": {
        "id": "ka2ldTaq9upz"
      },
      "source": [
        "{\n",
        "    \"Grae Drake\": 98110,\n",
        "    \"Bethany Kok\": None,\n",
        "    \"Alex Nussbacher\": 94101,\n",
        "    \"Darrell Silver\": 11201,    \n",
        "}\n",
        "\n",
        "You don't have to worry about leading zeros in zip codes."
      ]
    },
    {
      "cell_type": "code",
      "metadata": {
        "id": "DRU0sON89upz",
        "colab": {
          "base_uri": "https://localhost:8080/"
        },
        "outputId": "a1365e5d-5199-4ec4-d283-536ee57c5de3"
      },
      "source": [
        "# your code here\n",
        "people = [[\"Grae Drake\", 98110], [\"Bethany Kok\"], [\"Alex Nussbacher\", 94101], [\"Darrell Silver\", 11201]]\n",
        "\n",
        "def user_contacts(data):\n",
        "  users = {}\n",
        "  for i in people:\n",
        "    if len(i) == 2:\n",
        "      users[i[0]] = i[1]\n",
        "    else:\n",
        "      users[i[0]] = \"None\"\n",
        "  return users\n",
        "\n",
        "user_contacts(people)\n"
      ],
      "execution_count": 88,
      "outputs": [
        {
          "output_type": "execute_result",
          "data": {
            "text/plain": [
              "{'Alex Nussbacher': 94101,\n",
              " 'Bethany Kok': 'None',\n",
              " 'Darrell Silver': 11201,\n",
              " 'Grae Drake': 98110}"
            ]
          },
          "metadata": {
            "tags": []
          },
          "execution_count": 88
        }
      ]
    }
  ]
}